{
 "cells": [
  {
   "cell_type": "code",
   "execution_count": 2,
   "id": "04208be0-4d5a-45e5-b967-d06be3bab8e9",
   "metadata": {},
   "outputs": [
    {
     "name": "stdout",
     "output_type": "stream",
     "text": [
      "Analyzing images with DeepFace...\n"
     ]
    },
    {
     "name": "stderr",
     "output_type": "stream",
     "text": [
      "100%|██████████| 309/309 [02:48<00:00,  1.83it/s]\n"
     ]
    },
    {
     "name": "stdout",
     "output_type": "stream",
     "text": [
      "\n",
      "✅ Done! Saved to: /Users/anielamac/Desktop/thesis/PL_emotion_game_MANUAL/dataset CK/ck_emotion_difficulty.csv\n"
     ]
    }
   ],
   "source": [
    "import os\n",
    "import pandas as pd\n",
    "from deepface import DeepFace\n",
    "from sklearn.preprocessing import MinMaxScaler\n",
    "from tqdm import tqdm\n",
    "\n",
    "# === Paths ===\n",
    "image_folder = \"/Users/anielamac/Desktop/thesis/PL_emotion_game_MANUAL/dataset CK/ck_images\"\n",
    "labels_csv = \"/Users/anielamac/Desktop/thesis/PL_emotion_game_MANUAL/dataset CK/ck_converted_for_game.csv\"\n",
    "output_csv = \"/Users/anielamac/Desktop/thesis/PL_emotion_game_MANUAL/dataset CK/ck_emotion_difficulty.csv\"\n",
    "\n",
    "# === Load ground truth labels ===\n",
    "df_labels = pd.read_csv(labels_csv)\n",
    "\n",
    "# === Filter out Neutral and Contempt ===\n",
    "df_labels = df_labels[~df_labels[\"emotion\"].str.lower().isin([\"neutral\", \"contempt\"])].reset_index(drop=True)\n",
    "\n",
    "# === Run DeepFace analysis ===\n",
    "emotion_results = []\n",
    "\n",
    "print(\"Analyzing images with DeepFace...\")\n",
    "\n",
    "for idx, row in tqdm(df_labels.iterrows(), total=len(df_labels)):\n",
    "    filename = row[\"filename\"]\n",
    "    correct_label = row[\"emotion\"].lower()\n",
    "    img_path = os.path.join(image_folder, filename)\n",
    "\n",
    "    try:\n",
    "        result = DeepFace.analyze(img_path=img_path, actions=[\"emotion\"], enforce_detection=False)[0]\n",
    "        emotions = result[\"emotion\"]\n",
    "        correct_score = emotions.get(correct_label, 0)\n",
    "        raw_difficulty = 1.0 - (correct_score / 100)\n",
    "\n",
    "        emotion_results.append({\n",
    "            \"filename\": filename,\n",
    "            \"folder_label\": correct_label,\n",
    "            **emotions,\n",
    "            \"raw_difficulty\": raw_difficulty\n",
    "        })\n",
    "\n",
    "    except Exception as e:\n",
    "        print(f\"Skipped {filename} - {e}\")\n",
    "\n",
    "# === Create dataframe ===\n",
    "df = pd.DataFrame(emotion_results)\n",
    "\n",
    "# === Normalize difficulty per emotion class ===\n",
    "df[\"difficulty\"] = 0.0  # initialize\n",
    "\n",
    "for emo in df[\"folder_label\"].unique():\n",
    "    mask = df[\"folder_label\"] == emo\n",
    "    scaler = MinMaxScaler()\n",
    "    df.loc[mask, \"difficulty\"] = scaler.fit_transform(df.loc[mask, [\"raw_difficulty\"]])\n",
    "\n",
    "# === Final cleanup ===\n",
    "df.drop(columns=[\"raw_difficulty\"], inplace=True)\n",
    "df[\"shown\"] = False\n",
    "df = df.sort_values(\"difficulty\").reset_index(drop=True)\n",
    "\n",
    "# === Save CSV ===\n",
    "df.to_csv(output_csv, index=False)\n",
    "print(f\"\\n✅ Done! Saved to: {output_csv}\")\n"
   ]
  },
  {
   "cell_type": "code",
   "execution_count": null,
   "id": "205f241d-00a5-4de4-bff0-fb676bfcd3e4",
   "metadata": {},
   "outputs": [],
   "source": []
  }
 ],
 "metadata": {
  "kernelspec": {
   "display_name": "Python 3 (ipykernel)",
   "language": "python",
   "name": "python3"
  },
  "language_info": {
   "codemirror_mode": {
    "name": "ipython",
    "version": 3
   },
   "file_extension": ".py",
   "mimetype": "text/x-python",
   "name": "python",
   "nbconvert_exporter": "python",
   "pygments_lexer": "ipython3",
   "version": "3.11.11"
  }
 },
 "nbformat": 4,
 "nbformat_minor": 5
}
